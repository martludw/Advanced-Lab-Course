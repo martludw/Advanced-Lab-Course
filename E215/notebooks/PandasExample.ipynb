{
 "cells": [
  {
   "cell_type": "code",
   "execution_count": null,
   "metadata": {},
   "outputs": [],
   "source": [
    "# this example is based on the physics718 course I gave in summer 21. Eckhard von Toerne\n",
    "#\n",
    "import pandas as pd\n",
    "from math import log\n",
    "x = [0,0,0,1,1,2,2,2,2,3,3,4,4,4,5,5,5]\n",
    "y = [3.4,3.1,3.,1.8,1.5,3.2,3.0,3.4,2.7,3.3,3.5,3.7,3.8,3.9,4.0,4.03,3.97]\n",
    "df = pd.DataFrame(data={'x':x,'y':y})\n",
    "print(df)"
   ]
  },
  {
   "cell_type": "code",
   "execution_count": null,
   "metadata": {},
   "outputs": [],
   "source": [
    "# columns of a pandas dataframe\n",
    "print(df['y'])"
   ]
  },
  {
   "cell_type": "code",
   "execution_count": null,
   "metadata": {},
   "outputs": [],
   "source": [
    "df['y2']=df['y']+2   # adding column\n",
    "## command using eval\n",
    "df['y3'] = df.eval('y+3')   # alternatively\n",
    "# df.eval('y3 = y2 + 3', inplace=True) inplace=True necessary to modify the original dataframe\n",
    "print(df)"
   ]
  },
  {
   "cell_type": "code",
   "execution_count": null,
   "metadata": {},
   "outputs": [],
   "source": [
    "# selecting a subframe of several columns\n",
    "subcolumns = ['x','y2']\n",
    "#df[ subcolumns ]\n",
    "slice_of_df = df[ subcolumns ]\n",
    "df['y2']=0\n",
    "print(slice_of_df)\n",
    "print(df)\n",
    "# if you think slices are EASY, click on this cell again and see the output change\n"
   ]
  },
  {
   "cell_type": "code",
   "execution_count": null,
   "metadata": {},
   "outputs": [],
   "source": [
    "# selecting rows by index\n",
    "#df[0:5]\n",
    "# selecting rows on a condition\n",
    "#df[df['x']>=3]\n",
    "#df[df['x']>=3 and df['x']<5] does not work. Instead use:  df[(df['x']>=3)& (df['x']<5)]\n",
    "\n",
    "#selecting on both roaws and columns\n",
    "#df[ ['x','y']][0:5]\n",
    "# selecting every second element\n",
    "evens=df[ ['x','y']][::2]\n",
    "#odds=df[ ['x','y']][1::2]\n",
    "print(evens)\n"
   ]
  },
  {
   "cell_type": "code",
   "execution_count": null,
   "metadata": {},
   "outputs": [],
   "source": [
    "# plotting\n",
    "df['y2'].plot.hist(bins=5,range=(0,7.))\n",
    "df.plot.scatter(x='x',y='y')"
   ]
  },
  {
   "cell_type": "code",
   "execution_count": null,
   "metadata": {},
   "outputs": [],
   "source": [
    "# implement z = x*x\n",
    "df['z'] = df['x'] * df['x']\n",
    "# more complicated function: use a lambda fucntion or a predefined function\n",
    "#df['z'] = df['x'].apply( lambda a: a*a)\n",
    "\n",
    "def square_it(a): return a*a\n",
    "df['z'] = df['x'].apply( square_it)\n",
    "df"
   ]
  },
  {
   "cell_type": "code",
   "execution_count": null,
   "metadata": {},
   "outputs": [],
   "source": [
    "# locator function\n",
    "value = df.loc[2,'y2'] # df.loc[row index, column name]\n",
    "print('df[y2] index=2',value)\n",
    "df.loc[2,'y2']=8\n",
    "print('df[y2] index=2',df.loc[2,'y2'])"
   ]
  },
  {
   "cell_type": "code",
   "execution_count": null,
   "metadata": {},
   "outputs": [],
   "source": [
    "\n",
    "# df.loc can access severl rows at once: df.loc[condition on rows, column name]\n",
    "# example: change all x=5 values to x=6\n",
    "df.loc[df['x']==5,'x']=6\n",
    "print(df)"
   ]
  },
  {
   "cell_type": "code",
   "execution_count": null,
   "metadata": {},
   "outputs": [],
   "source": [
    "# example: implement z = cos(x)+sin(y2)\n",
    "from math import sin,cos"
   ]
  },
  {
   "cell_type": "code",
   "execution_count": null,
   "metadata": {},
   "outputs": [],
   "source": [
    "# example: implement z = cos(x)+sin(y2)\n",
    "from math import sin,cos\n",
    "df['z'] = df['x']+df['y2'] # simple things work\n",
    "# does not work  df['z'] = cos(df['x'])+sin(df['y2'])\n",
    "df['z']=df[['x','y2']].apply( lambda a: cos(a[0])+sin(a[1]), axis=1) # here we need to specify the axis as there are two\n",
    "# if everything fails use loc\n",
    "#df['z']=0 # make sure the column exists and can be modified\n",
    "#for i in range(len(df)):\n",
    "#    df.loc[i, 'z'] = cos(df['x'][i])+sin(df['y2'][i]) # this is the LEAST pythonic thing\n",
    "# \n",
    "df"
   ]
  },
  {
   "cell_type": "code",
   "execution_count": null,
   "metadata": {},
   "outputs": [],
   "source": []
  }
 ],
 "metadata": {
  "interpreter": {
   "hash": "3648a57f7db8f51de5f8ff6198fbcd1e99c52710619d6b9e69e821177e622f35"
  },
  "kernelspec": {
   "display_name": "Python 3.7.10 64-bit ('physics718': conda)",
   "language": "python",
   "name": "python3"
  },
  "language_info": {
   "codemirror_mode": {
    "name": "ipython",
    "version": 3
   },
   "file_extension": ".py",
   "mimetype": "text/x-python",
   "name": "python",
   "nbconvert_exporter": "python",
   "pygments_lexer": "ipython3",
   "version": "3.7.10"
  },
  "orig_nbformat": 2
 },
 "nbformat": 4,
 "nbformat_minor": 2
}
