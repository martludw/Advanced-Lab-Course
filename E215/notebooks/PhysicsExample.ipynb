{
    "cells": [
        {
            "cell_type": "code",
            "execution_count": null,
            "metadata": {},
            "outputs": [],
            "source": [
                "import pandas as pd\n",
                "import numpy as np\n",
                "import math\n",
                "import matplotlib.pyplot as pyplot\n",
                "df = pd.read_csv('DataPairOfChargedPions.xls')\n",
                "print(list(df.columns))\n",
                "print(df)"
            ]
        },
        {
            "cell_type": "code",
            "execution_count": null,
            "metadata": {},
            "outputs": [],
            "source": [
                "#adding a new (nonsense) variable to the dataframe\n",
                "df['signedmass'] = df['mass']*df['sign']\n",
                "print(df)"
            ]
        },
        {
            "cell_type": "code",
            "execution_count": null,
            "metadata": {},
            "outputs": [],
            "source": [
                "print(\"creating a sub sample (slice)\")\n",
                "df_sub0 = df[ df['pt']>1.0 ]\n",
                "print(df_sub0)\n",
                "print(\"creating a sub sample using multiple cuts (a slice)\")\n",
                "df_sub = df[ (df['pt']>2.0) & (df['sign']<0) ]\n",
                "# adding a new column to the slice will result in a volatile situation and a warning is printed\n",
                "# uncomment next line to see this behavior\n",
                "#df_sub['newVariable'] = df_sub['pt'] * df_sub['sign']\n",
                "\n",
                "#instead add the new column to the whole dataframe df\n",
                "df['signedpt'] = df['pt']*df['sign']\n",
                "#and recreate the slice\n",
                "df_sub = df[ (df['pt']>2.0) & (df['sign']<0) ]\n",
                "print(df_sub)\n",
                "## "
            ]
        },
        {
            "cell_type": "code",
            "execution_count": null,
            "metadata": {},
            "outputs": [],
            "source": [
                "print(df_sub)\n"
            ]
        },
        {
            "cell_type": "code",
            "execution_count": null,
            "metadata": {},
            "outputs": [],
            "source": [
                "# if you want to add a variable only to a sub frame and not to the whole frame, you can do it like this:\n",
                "# first create an subframe which is independent of the full frame by doing an explicit copy, then add the new variable to the copy.\n",
                "sub_copy = df_sub.copy()\n",
                "sub_copy['mass2'] = sub_copy['mass']**2 \n",
                "# \n",
                "print(sub_copy)"
            ]
        },
        {
            "cell_type": "code",
            "execution_count": null,
            "metadata": {},
            "outputs": [],
            "source": [
                "# creating a simple histogram\n",
                "df['mass'].hist(bins=50)"
            ]
        },
        {
            "cell_type": "code",
            "execution_count": null,
            "metadata": {},
            "outputs": [],
            "source": [
                "# creating histograms\n",
                "\n",
                "fig, ax = pyplot.subplots() # get a handle on figure and its axis\n",
                "pyplot.margins(x=0) #disable plotting margins\n",
                "# create dummy data\n",
                "#x1 = np.random.normal(loc=0.4,scale=0.2,size=1000)\n",
                "#x2 = np.random.normal(loc=0.41,scale=0.21,size=1000)\n",
                "x1 = df[df['sign']>0]['mass'].to_numpy()\n",
                "x2 = df[df['sign']<0]['mass'].to_numpy()\n",
                "# define the binning\n",
                "nbins,xmin,xmax = 50,1.,3.\n",
                "# prepare marker plot\n",
                "y, bin_edges = np.histogram(x2, bins=nbins, range=(xmin,xmax))\n",
                "y_err = y**0.5\n",
                "bin_centers = 0.5*(bin_edges[1:] + bin_edges[:-1])\n",
                "#plot x1 as histogram (no errors shown)\n",
                "pyplot.hist(x1,bins=nbins,range=(xmin,xmax),alpha=0.3,color='blue',label='same-sign background')\n",
                "# plot x2 with error bars \n",
                "pyplot.errorbar( bin_centers, y, y_err, fmt = 'o',label = 'data',color='black')\n",
                "#create legend\n",
                "pyplot.legend(loc='upper right')\n",
                "ax.text(2.1,4500,\"example plot\")\n",
                "pyplot.ylabel('Entries per bin')\n",
                "pyplot.xlabel('Invariant Mass in GeV')\n",
                "pyplot.show()\n",
                "fig.savefig(\"examplepplot.pdf\")"
            ]
        }
    ],
    "metadata": {
        "interpreter": {
            "hash": "3648a57f7db8f51de5f8ff6198fbcd1e99c52710619d6b9e69e821177e622f35"
        },
        "kernelspec": {
            "display_name": "Python 3.7.10 64-bit ('physics718': conda)",
            "name": "python3"
        },
        "language_info": {
            "codemirror_mode": {
                "name": "ipython",
                "version": 3
            },
            "file_extension": ".py",
            "mimetype": "text/x-python",
            "name": "python",
            "nbconvert_exporter": "python",
            "pygments_lexer": "ipython3",
            "version": "3.8.12"
        },
        "orig_nbformat": 4
    },
    "nbformat": 4,
    "nbformat_minor": 2
}
