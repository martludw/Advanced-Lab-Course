{
 "cells": [
  {
   "cell_type": "code",
   "execution_count": null,
   "metadata": {},
   "outputs": [],
   "source": [
    "# this example is based on the physics718 course I gave in summer 21. Eckhard von Toerne\n",
    "#\n",
    "import numpy as np\n",
    "a = np.array([1,2,3]) \n",
    "print(a.mean(),a.std(),a.min(),a.max())\n",
    "print( np.cross(np.array([1,2,3]),np.array([4,5,6])) )\n",
    "print( np.trace(np.array([[1,6],[3,4]])) )\n",
    "print( np.linalg.det(np.array([[1,6],[3,4]])))\n",
    "print( np.exp(a))"
   ]
  },
  {
   "cell_type": "code",
   "execution_count": null,
   "metadata": {},
   "outputs": [],
   "source": [
    "b = np.array([4,5,6])\n",
    "c = 3*(a+b)             # basic arithmetic operators act element-wise \n",
    "print(c)"
   ]
  },
  {
   "cell_type": "code",
   "execution_count": null,
   "metadata": {},
   "outputs": [],
   "source": [
    "print(a.size)  # size:  how many elements"
   ]
  },
  {
   "cell_type": "code",
   "execution_count": null,
   "metadata": {},
   "outputs": [],
   "source": [
    "#arrays and shapes\n",
    "a=np.array([1,2,3]) #define a one-dimensional array of length 3\n",
    "print(a.shape) # shape: dimensions of a numpy array stored in a tuple\n",
    "print(type(a.shape)) # why the comma?: python requires at least one comma in a tuple: print(tuple([3]))"
   ]
  },
  {
   "cell_type": "code",
   "execution_count": null,
   "metadata": {},
   "outputs": [],
   "source": [
    "def prnt(m): print(\"array=\",m,\", shape=\",m.shape)\n",
    "prnt(np.array( [1,2,3] ))\n",
    "prnt(np.array( [[1,2,3]] ))\n",
    "prnt(np.array( [[1],[2],[3]] ))"
   ]
  },
  {
   "cell_type": "code",
   "execution_count": null,
   "metadata": {},
   "outputs": [],
   "source": [
    "# the reshape command\n",
    "a=np.array([1,2,3])\n",
    "for shp in [ (3), (3,), (3,1), (3,2), (1,3), (3,0), (0,3), (1,3,), (3,1,), (3,1,1) ]:  #(,3) not a valid tuple\n",
    "    try:\n",
    "        prnt(a.reshape(shp))\n",
    "    except:\n",
    "        print(\"shape \", shp , \" did not work\")\n",
    "#shape works if the product aver the shape tuple is equal to the number of elements in the original array\n",
    "# (3)=(3,)  (1,3,)= (1,3)"
   ]
  },
  {
   "cell_type": "code",
   "execution_count": null,
   "metadata": {},
   "outputs": [],
   "source": [
    "#matrix multiplication        #  |1  6|  (1)  =  (13)\n",
    "m=np.array( [[1,6],[3,-4]] )  #  |3 -4|  (2)  =  (-5)\n",
    "print(np.matmul(m,np.array( [1,2] )))\n",
    "#print()\n",
    "#m2 = np.array([[1,2],[3,4],[5,6]])\n",
    "#print(np.matmul(m2,np.array([1,2])))  3x2 times 2-vector\n",
    "# see also np.identity()"
   ]
  },
  {
   "cell_type": "code",
   "execution_count": null,
   "metadata": {},
   "outputs": [],
   "source": [
    "# there are several different max functions   #  |3  6|  \n",
    "m=np.array( [[3,6],[2,-4]] )                  #  |2 -4| \n",
    "print(m.max()) # max over all elements\n",
    "print(np.max(m,axis=0)) #max over column\n",
    "print(np.max(m,axis=1)) # max over row\n",
    "print(np.maximum(m,-m)) # element-wise maximum between two arrays of same shape"
   ]
  },
  {
   "cell_type": "code",
   "execution_count": null,
   "metadata": {},
   "outputs": [],
   "source": [
    "prnt(np.concatenate( [[1,2,3],[4,5,6]] ))\n",
    "prnt(np.concatenate( [[[1,2,3]],[[4,5,6]]] ))\n",
    "prnt(np.concatenate( [[[1,2,3]],[[4,5,6]]], axis=1))\n",
    "#print (np.concatenate([[[1,2,3]],[[4,5,6]]], axis=-1)) # -1 is the last axis = 1 here"
   ]
  },
  {
   "cell_type": "code",
   "execution_count": null,
   "metadata": {},
   "outputs": [],
   "source": [
    "m = np.concatenate( [[[1,2,3]],[[4,5,6]]] )\n",
    "prnt(m)\n",
    "mt = m.transpose()\n",
    "prnt(mt)"
   ]
  },
  {
   "cell_type": "code",
   "execution_count": null,
   "metadata": {},
   "outputs": [],
   "source": [
    "a = np.array([1,2,3])\n",
    "b = np.array([4,5,6])\n",
    "c = 3*(a+b)             # basic arithmetic operators act element-wise \n",
    "prnt(c)\n",
    "# element-wise operations assume same shape. If an element-wise operation acts on arrays with mismatched shape\n",
    "# numpy will attempt to expand arrays to match shapes if possible\n",
    "# Allowed expansions are called \"broadcasting\" and only add an additional dimension to an array 1d --> 2d or similar \n",
    "m=np.array( [[3,6,2],[2,-4,1],[0,1,3]] )  \n",
    "v=np.array( [1,2,3])\n",
    "prnt(m+v)\n",
    "# this also works\n",
    "e=np.array([1])+np.array([1,2,3])\n",
    "prnt(e)\n",
    "#f=np.array([1,2])+np.array([1,2,3]) # <-- this will not work without broadcasting"
   ]
  },
  {
   "cell_type": "code",
   "execution_count": null,
   "metadata": {},
   "outputs": [],
   "source": [
    "a=np.array([1.23, 3.14,0.01])\n",
    "a.tofile(\"simple.bin\")\n",
    "b = np.fromfile(\"simple.bin\") \n",
    "print(b)\n",
    "#\n",
    "# saving to csv file\n",
    "np.savetxt(\"simple.csv\",a,delimiter=',', header=\"optional header\")\n",
    "c=np.genfromtxt(\"simple.csv\",delimiter=',')\n",
    "print(c)"
   ]
  },
  {
   "cell_type": "code",
   "execution_count": null,
   "metadata": {},
   "outputs": [],
   "source": [
    "# creating numpy slices\n",
    "a=np.array([1.23, 3.14,0.01])\n",
    "b=a[1:]\n",
    "print(b)\n",
    "print(b[0])\n",
    "# what is the relation between original and its slice?\n",
    "a[1]=1.7\n",
    "print(a)\n",
    "print(b)  # when a changes, so does b\n",
    "# more advanced slices\n",
    "a=np.array([1.23, 3.14,0.01,4.5])\n",
    "b=np.array([0.23, -1.4,1.3, 2.1])\n",
    "c = b[a>3.]\n",
    "print(c)"
   ]
  },
  {
   "cell_type": "code",
   "execution_count": null,
   "metadata": {},
   "outputs": [],
   "source": [
    "#numpy 2d slice\n",
    "a = np.random.random((5,4))\n",
    "prnt(a)\n",
    "b=a[1:,1:3]\n",
    "prnt(b)\n",
    "## \n",
    "c = np.random.random((7,))\n",
    "d = c[1:6:2] # third argument is the step\n",
    "prnt(c)\n",
    "prnt(d)"
   ]
  },
  {
   "cell_type": "code",
   "execution_count": null,
   "metadata": {},
   "outputs": [],
   "source": [
    "#if you want a new array independent of its source, use copy\n",
    "a=np.array([1.23, 3.14,0.01])\n",
    "b=a[1:].copy()\n",
    "a[1]=1.7\n",
    "print(a)\n",
    "print(b)"
   ]
  },
  {
   "cell_type": "code",
   "execution_count": null,
   "metadata": {},
   "outputs": [],
   "source": [
    "\n",
    "m=np.array([[3,6],[2,-4]])      \n",
    "m2 = np.zeros((2,2))\n",
    "prnt(m2)\n",
    "m3 = np.full((2,2), 0.3)\n",
    "prnt(m3)\n",
    "# see also: np.zeros_like, np.ones"
   ]
  },
  {
   "cell_type": "code",
   "execution_count": null,
   "metadata": {},
   "outputs": [],
   "source": [
    "# np.extract: Return the elements of an array that satisfy some condition.\n",
    "m=np.array([[3,6],[2,-4]])      \n",
    "print(np.greater(m,0))\n",
    "elements_greater_0 = np.extract(np.greater(m,0), m)\n",
    "prnt(elements_greater_0)"
   ]
  },
  {
   "cell_type": "code",
   "execution_count": null,
   "metadata": {},
   "outputs": [],
   "source": [
    "# np.expand_dims: equivalent to certain reshape commands\n",
    "a = np.array([1,2,3])\n",
    "prnt(a)\n",
    "prnt(np.expand_dims(a,axis=0))\n",
    "prnt(np.expand_dims(a,axis=1))"
   ]
  },
  {
   "cell_type": "code",
   "execution_count": null,
   "metadata": {},
   "outputs": [],
   "source": [
    "# other commands I sometimes use\n",
    "# np.random.shuffle np.random.normal \n",
    "# np.argmax(): index of max element:   print(np.argmax([0,1,2,5,2]))\n",
    "# np.arange: Return evenly spaced values within a given interval.\n",
    "# np.histogram: see NicePlottingExample.py\n",
    "# np.copyto: copying an array from source to destination. less memory consuming \n",
    "# np.ndarray.view: reinterpretating an array's bytes of memory \n",
    "# np.linspace: creating evenly spaced data\n",
    "# np.clip: apply min and max operation at same time"
   ]
  }
 ],
 "metadata": {
  "interpreter": {
   "hash": "dd810a07927d688b952eea674bac425490fc1731495ebf2e65af4d64a6941b05"
  },
  "kernelspec": {
   "display_name": "Python 3.7.10 64-bit ('physics718': conda)",
   "name": "python3"
  },
  "language_info": {
   "codemirror_mode": {
    "name": "ipython",
    "version": 3
   },
   "file_extension": ".py",
   "mimetype": "text/x-python",
   "name": "python",
   "nbconvert_exporter": "python",
   "pygments_lexer": "ipython3",
   "version": "3.7.10"
  },
  "orig_nbformat": 2
 },
 "nbformat": 4,
 "nbformat_minor": 2
}
