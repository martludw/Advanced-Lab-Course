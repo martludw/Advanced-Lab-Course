{
 "cells": [
  {
   "cell_type": "code",
   "execution_count": null,
   "metadata": {},
   "outputs": [],
   "source": [
    "# this example is based on the physics718 course I gave in summer 21. Eckhard von Toerne\n",
    "#\n",
    "import numpy as np\n",
    "import matplotlib.pyplot as pyplot\n",
    "x1 = np.random.normal(loc=0.4,scale=0.2,size=1000) # create dummy data\n",
    "#plot x1 as histogram (no errors shown)\n",
    "pyplot.hist(x1,bins=20,range=(0.,1.),alpha=0.3,color='blue',label='simulation')"
   ]
  },
  {
   "cell_type": "code",
   "execution_count": null,
   "metadata": {},
   "outputs": [],
   "source": [
    "\n",
    "fig, ax = pyplot.subplots() # get a handle on figure and its axis\n",
    "pyplot.margins(x=0) #disable plotting margins\n",
    "# create dummy data\n",
    "x1 = np.random.normal(loc=0.4,scale=0.2,size=1000)\n",
    "x2 = np.random.normal(loc=0.41,scale=0.21,size=1000)\n",
    "# define the binning\n",
    "nbins,xmin,xmax = 20,0.,1.\n",
    "# prepare marker plot\n",
    "y, bin_edges = np.histogram(x2, bins=nbins, range=(xmin,xmax))\n",
    "y_err = y**0.5\n",
    "bin_centers = 0.5*(bin_edges[1:] + bin_edges[:-1])\n",
    "#plot x1 as histogram (no errors shown)\n",
    "pyplot.hist(x1,bins=nbins,range=(xmin,xmax),alpha=0.3,color='blue',label='simulation')\n",
    "# plot x2 with error bars \n",
    "pyplot.errorbar( bin_centers, y, y_err, fmt = 'o',label = 'data',color='black')\n",
    "#create legend\n",
    "pyplot.legend(loc='upper right')\n",
    "ax.text(0.7,80,\"example plot\")\n",
    "pyplot.xlabel('x in [units]')\n",
    "pyplot.ylabel('y in [units]')\n",
    "pyplot.show()\n",
    "fig.savefig(\"examplepplot.pdf\")"
   ]
  },
  {
   "cell_type": "code",
   "execution_count": null,
   "metadata": {},
   "outputs": [],
   "source": [
    "# now do some curve fitting, example taken from: https://docs.scipy.org/doc/scipy/reference/generated/scipy.optimize.curve_fit.html\n",
    "\n",
    "from scipy.optimize import curve_fit\n",
    "from scipy.stats import chi2\n",
    "from math import sqrt\n",
    "fig, ax = pyplot.subplots()\n",
    "pyplot.margins(y=0.2)\n",
    "\n",
    "def func(x, a, b, c):\n",
    "    return a * np.exp(-(x-b)**2/(2.*c**2)) \n",
    "\n",
    "\n",
    "x= bin_centers\n",
    "pyplot.errorbar( x, y, yerr = y_err, fmt = 'o',label = 'x2',color='black')\n",
    "\n",
    "p_initial = (100,0.35,0.15)\n",
    "# plot initial function \n",
    "# pyplot.plot(x, func(x, *p_initial), 'r-', label='fit: a=%5.3f, b=%5.3f, c=%5.3f' % p_initial)\n",
    "# curve fit\n",
    "popt, pcov = curve_fit(func, x, y,p0=p_initial, sigma=y_err)\n",
    "pyplot.plot(x, func(x, *popt), 'r-', label='fit: a=%5.3f, b=%5.3f, c=%5.3f' % tuple(popt))\n",
    "from scipy.stats import chi2\n",
    "#len(popt): number of parameter\n",
    "chi_2 = np.sum( ((y-func(x, *popt))/y_err)**2)\n",
    "n_dof = len(x)-len(popt) #len(popt): number of parameters, len(x) = number of data points\n",
    "chi2prob = chi2.cdf(chi_2, n_dof)\n",
    "print(\"chi2,chi2prob\",chi2,chi2prob)\n",
    "for i in range(len(popt)): print(\"parameter_\"+str(i)+\"=\",popt[i],\"+-\",sqrt(pcov[i][i]))\n",
    "#ddofint, optional, “Delta degrees of freedom”: adjustment to the degrees of freedom for the p-value. \n",
    "# The p-value is computed using a chi-squared distribution with k - 1 - ddof degrees of freedom\n",
    "# Comment on the \"-1\" in the calculation: important if you estimate the error form the data variation. But here the error is given.\n",
    "pyplot.xlabel('x in [units]')\n",
    "pyplot.ylabel('y in [units]')\n",
    "pyplot.legend(loc='lower center')\n",
    "\n",
    "ax.text(0.7,70,'chi2 prob='+str(np.round(chi2prob,decimals=2))) # %4.2, %4.2' % tuple(chi2,chi2prob))\n",
    "pyplot.show()\n",
    "fig.savefig(\"gaussfit.pdf\")"
   ]
  },
  {
   "cell_type": "code",
   "execution_count": null,
   "metadata": {},
   "outputs": [],
   "source": []
  }
 ],
 "metadata": {
  "interpreter": {
   "hash": "69126eb452002522ca842675e4e3a549ca49e37dd01d44be4bf1eaa0d1cf886b"
  },
  "kernelspec": {
   "display_name": "Python 3.7.10 64-bit ('physics718': conda)",
   "language": "python",
   "name": "python3"
  },
  "language_info": {
   "codemirror_mode": {
    "name": "ipython",
    "version": 3
   },
   "file_extension": ".py",
   "mimetype": "text/x-python",
   "name": "python",
   "nbconvert_exporter": "python",
   "pygments_lexer": "ipython3",
   "version": "3.7.10"
  },
  "orig_nbformat": 2
 },
 "nbformat": 4,
 "nbformat_minor": 2
}
